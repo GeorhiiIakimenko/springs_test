{
 "cells": [
  {
   "cell_type": "code",
   "execution_count": 44,
   "id": "initial_id",
   "metadata": {
    "collapsed": true,
    "ExecuteTime": {
     "end_time": "2024-03-05T13:03:01.662662Z",
     "start_time": "2024-03-05T13:02:43.424206Z"
    }
   },
   "outputs": [
    {
     "name": "stderr",
     "output_type": "stream",
     "text": [
      "Some weights of the model checkpoint at bert-large-uncased-whole-word-masking-finetuned-squad were not used when initializing BertForQuestionAnswering: ['bert.pooler.dense.bias', 'bert.pooler.dense.weight']\n",
      "- This IS expected if you are initializing BertForQuestionAnswering from the checkpoint of a model trained on another task or with another architecture (e.g. initializing a BertForSequenceClassification model from a BertForPreTraining model).\n",
      "- This IS NOT expected if you are initializing BertForQuestionAnswering from the checkpoint of a model that you expect to be exactly identical (initializing a BertForSequenceClassification model from a BertForSequenceClassification model).\n"
     ]
    },
    {
     "name": "stdout",
     "output_type": "stream",
     "text": [
      "Question: Where are the top startups located?\n",
      "Answer: US, the UK, and France\n",
      "Time to extract text from PDF: 0.33 seconds\n",
      "Time to find answer: 14.35 seconds\n"
     ]
    }
   ],
   "source": [
    "import fitz  # PyMuPDF\n",
    "from transformers import pipeline\n",
    "import os\n",
    "import time\n",
    "\n",
    "# Function to extract text from PDF\n",
    "def extract_text_from_pdf(pdf_path):\n",
    "    if not os.path.exists(pdf_path):\n",
    "        raise FileNotFoundError(f\"File {pdf_path} not found.\")\n",
    "    doc = fitz.open(pdf_path)\n",
    "    text = \"\"\n",
    "    for page in doc:\n",
    "        text += page.get_text()\n",
    "    doc.close()\n",
    "    return text\n",
    "\n",
    "# Initialize the pipeline for question answering using the specialized BERT model\n",
    "qa_pipeline = pipeline(\"question-answering\", model=\"bert-large-uncased-whole-word-masking-finetuned-squad\")\n",
    "\n",
    "# Path to your PDF file\n",
    "pdf_path = '/Users/geoyak/Desktop/pythonProject1/stripe-startup.pdf'\n",
    "\n",
    "# Extract text from the PDF\n",
    "start_time = time.time()\n",
    "document_text = extract_text_from_pdf(pdf_path)\n",
    "end_time = time.time()\n",
    "\n",
    "# Question to find the answer for based on the document text\n",
    "question = \"Where are the top startups located?\"\n",
    "\n",
    "# Search for the answer\n",
    "start_time_qa = time.time()\n",
    "answer = qa_pipeline(question=question, context=document_text)\n",
    "end_time_qa = time.time()\n",
    "\n",
    "# Print the answer with the context\n",
    "print(\"Question:\", question)\n",
    "print(\"Answer:\", answer['answer'])\n",
    "#print(\"Context:\")\n",
    "#print(document_text)\n",
    "print(\"Time to extract text from PDF: {:.2f} seconds\".format(end_time - start_time))\n",
    "print(\"Time to find answer: {:.2f} seconds\".format(end_time_qa - start_time_qa))\n"
   ]
  },
  {
   "cell_type": "code",
   "outputs": [
    {
     "name": "stderr",
     "output_type": "stream",
     "text": [
      "Some weights of the model checkpoint at mrm8488/bert-small-finetuned-squadv2 were not used when initializing BertForQuestionAnswering: ['bert.pooler.dense.bias', 'bert.pooler.dense.weight']\n",
      "- This IS expected if you are initializing BertForQuestionAnswering from the checkpoint of a model trained on another task or with another architecture (e.g. initializing a BertForSequenceClassification model from a BertForPreTraining model).\n",
      "- This IS NOT expected if you are initializing BertForQuestionAnswering from the checkpoint of a model that you expect to be exactly identical (initializing a BertForSequenceClassification model from a BertForSequenceClassification model).\n"
     ]
    },
    {
     "name": "stdout",
     "output_type": "stream",
     "text": [
      "Question: Where are the top startups located?\n",
      "Answer: the Bay Area, New York, Los Angeles, Miami, and Austin\n",
      "Time to extract text from PDF: 0.14 seconds\n",
      "Time to find answer: 1.03 seconds\n"
     ]
    }
   ],
   "source": [
    "import fitz  # PyMuPDF\n",
    "from transformers import pipeline\n",
    "import os\n",
    "import time\n",
    "\n",
    "# Function to extract text from PDF\n",
    "def extract_text_from_pdf(pdf_path):\n",
    "    if not os.path.exists(pdf_path):\n",
    "        raise FileNotFoundError(f\"File {pdf_path} not found.\")\n",
    "    doc = fitz.open(pdf_path)\n",
    "    text = \"\"\n",
    "    for page in doc:\n",
    "        text += page.get_text()\n",
    "    doc.close()\n",
    "    return text\n",
    "\n",
    "# Initialize the pipeline for question-answering using the specialized BERT model\n",
    "qa_pipeline = pipeline(\"question-answering\", model=\"mrm8488/bert-small-finetuned-squadv2\")\n",
    "\n",
    "# Path to your PDF file\n",
    "pdf_path = '/Users/geoyak/Desktop/pythonProject1/stripe-startup.pdf'\n",
    "\n",
    "# Extract text from the PDF\n",
    "start_time = time.time()\n",
    "document_text = extract_text_from_pdf(pdf_path)\n",
    "end_time = time.time()\n",
    "\n",
    "# Question to ask based on the document text\n",
    "question = \"Where are the top startups located?\"\n",
    "\n",
    "# Search for the answer\n",
    "start_time_qa = time.time()\n",
    "answer = qa_pipeline(question=question, context=document_text)\n",
    "end_time_qa = time.time()\n",
    "\n",
    "# Print the answer along with the context\n",
    "print(\"Question:\", question)\n",
    "print(\"Answer:\", answer['answer'])\n",
    "#print(\"Context:\")\n",
    "#print(document_text)\n",
    "print(\"Time to extract text from PDF: {:.2f} seconds\".format(end_time - start_time))\n",
    "print(\"Time to find answer: {:.2f} seconds\".format(end_time_qa - start_time_qa))\n",
    "\n"
   ],
   "metadata": {
    "collapsed": false,
    "ExecuteTime": {
     "end_time": "2024-03-05T13:03:03.148179Z",
     "start_time": "2024-03-05T13:03:01.664317Z"
    }
   },
   "id": "aa9e1f0a63b750a2",
   "execution_count": 45
  }
 ],
 "metadata": {
  "kernelspec": {
   "display_name": "Python 3",
   "language": "python",
   "name": "python3"
  },
  "language_info": {
   "codemirror_mode": {
    "name": "ipython",
    "version": 2
   },
   "file_extension": ".py",
   "mimetype": "text/x-python",
   "name": "python",
   "nbconvert_exporter": "python",
   "pygments_lexer": "ipython2",
   "version": "2.7.6"
  }
 },
 "nbformat": 4,
 "nbformat_minor": 5
}
